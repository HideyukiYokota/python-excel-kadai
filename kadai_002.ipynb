{
 "cells": [
  {
   "cell_type": "code",
   "execution_count": 35,
   "metadata": {},
   "outputs": [
    {
     "name": "stdout",
     "output_type": "stream",
     "text": [
      "          日付 社員名   売上    部門  平均売上 業績ランク\n",
      "0  2023/5/17  山田  100  メーカー   200     C\n",
      "1  2023/5/18  佐藤  200   代理店   200     B\n",
      "2  2023/5/19  鈴木  150  メーカー   200     C\n",
      "3  2023/5/20  田中  300    商社   200     A\n",
      "4  2023/5/21  高橋  250   代理店   200     A\n"
     ]
    }
   ],
   "source": [
    "import pandas as pd\n",
    "df = pd.DataFrame({\n",
    "    '日付':\n",
    "      ['2023/5/17','2023/5/18','2023/5/19','2023/5/20','2023/5/21'],\n",
    "    '社員名': ['山田','佐藤','鈴木','田中','高橋'],\n",
    "    '売上': [100,200,150,300,250],\n",
    "    '部門': ['メーカー','代理店','メーカー','商社','代理店'],\n",
    "})\n",
    "df['平均売上']=int(df['売上'].mean())\n",
    "heikin =int(df['売上'].mean())\n",
    "\n",
    "def performance(uriage):\n",
    "    result=''\n",
    "    if uriage >= heikin + 50 :\n",
    "        result='A'\n",
    "    elif uriage >= heikin:\n",
    "        result='B'\n",
    "    else:\n",
    "        result='C'\n",
    "    return result\n",
    "  \n",
    "df ['業績ランク']=df['売上'].apply(performance)\n",
    "print(df)\n",
    "# writer= pd.ExcelWriter('業績.xlsx')\n",
    "# df.to_excel(writer,sheet_name='sheet1',index=False)\n",
    "# writer.close\n",
    "df.to_excel('業績.xlsx',sheet_name='sheet1',index=False)\n"
   ]
  }
 ],
 "metadata": {
  "kernelspec": {
   "display_name": ".venv",
   "language": "python",
   "name": "python3"
  },
  "language_info": {
   "codemirror_mode": {
    "name": "ipython",
    "version": 3
   },
   "file_extension": ".py",
   "mimetype": "text/x-python",
   "name": "python",
   "nbconvert_exporter": "python",
   "pygments_lexer": "ipython3",
   "version": "3.10.11"
  },
  "orig_nbformat": 4
 },
 "nbformat": 4,
 "nbformat_minor": 2
}
