{
 "cells": [
  {
   "cell_type": "code",
   "execution_count": 3,
   "metadata": {},
   "outputs": [
    {
     "name": "stdout",
     "output_type": "stream",
     "text": [
      "[['請求書'],\n",
      " [],\n",
      " ['株式会社ABC', '', '', '', 'No.', '0001'],\n",
      " ['〒101-0022 東京都千代田区神田練塀町300', '', '', '', '日付', '2023/04/08'],\n",
      " ['TEL:03-1234-5678 FAX:03-1234-5678'],\n",
      " ['担当者名:鈴木一郎 様'],\n",
      " [],\n",
      " [],\n",
      " ['商品名', '数量', '単価', '金額'],\n",
      " ['商品A', 2, 10000, 20000],\n",
      " ['商品B', 1, 15000, 15000],\n",
      " ['', '', '', 35000],\n",
      " [],\n",
      " ['合計', '', '', 35000],\n",
      " ['消費税', '', '', 3500],\n",
      " ['税込合計', '', '', 38500]]\n"
     ]
    }
   ],
   "source": [
    "import openpyxl\n",
    "import pprint\n",
    "\n",
    "workbook = openpyxl.Workbook()\n",
    "ws=workbook.active\n",
    "data = [\n",
    "    ['請求書'],\n",
    "    [],\n",
    "    ['株式会社ABC','','','','No.','0001'],\n",
    "    ['〒101-0022 東京都千代田区神田練塀町300','','','','日付','2023/04/08'],\n",
    "    ['TEL:03-1234-5678 FAX:03-1234-5678'],\n",
    "    ['担当者名:鈴木一郎 様'],\n",
    "    [],\n",
    "    [],\n",
    "    ['商品名','数量','単価','金額'],\n",
    "    ['商品A',2,10000,20000],\n",
    "    ['商品B',1,15000,15000],\n",
    "    ['','','',35000],\n",
    "    [],\n",
    "    ['合計','','',35000],\n",
    "    ['消費税','','',3500],\n",
    "    ['税込合計','','',38500]\n",
    "]\n",
    "pprint.pprint(data)\n",
    "for row in data:\n",
    "    ws.append(row)\n",
    "ws.insert_rows(1,1)\n",
    "ws.insert_cols(1)\n",
    "from datetime import datetime\n",
    "today = datetime.today()\n",
    "workbook.save(f\"請求書_{today.strftime('%Y%m%d')}.xlsx\")"
   ]
  },
  {
   "cell_type": "code",
   "execution_count": null,
   "metadata": {},
   "outputs": [],
   "source": []
  },
  {
   "cell_type": "code",
   "execution_count": null,
   "metadata": {},
   "outputs": [],
   "source": []
  },
  {
   "cell_type": "code",
   "execution_count": null,
   "metadata": {},
   "outputs": [],
   "source": []
  },
  {
   "cell_type": "code",
   "execution_count": null,
   "metadata": {},
   "outputs": [],
   "source": []
  }
 ],
 "metadata": {
  "kernelspec": {
   "display_name": "Python 3 (ipykernel)",
   "language": "python",
   "name": "python3"
  },
  "language_info": {
   "codemirror_mode": {
    "name": "ipython",
    "version": 3
   },
   "file_extension": ".py",
   "mimetype": "text/x-python",
   "name": "python",
   "nbconvert_exporter": "python",
   "pygments_lexer": "ipython3",
   "version": "3.10.11"
  },
  "orig_nbformat": 4
 },
 "nbformat": 4,
 "nbformat_minor": 2
}
