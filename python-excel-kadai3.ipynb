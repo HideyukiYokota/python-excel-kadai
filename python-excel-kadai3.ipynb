{
 "cells": [
  {
   "cell_type": "code",
   "execution_count": 96,
   "metadata": {},
   "outputs": [],
   "source": [
    "import pandas as pd\n",
    "\n",
    "file_list = ['2022_年間売上表.xlsx', '2023_年間売上表.xlsx']\n",
    "df = pd.DataFrame()\n",
    "\n",
    "for file_name in file_list:\n",
    "    temp_df = pd.read_excel(file_name, header=None)\n",
    "    temp_df.columns = ['売上年', '商品', '金額（千円）']\n",
    "    df = pd.concat([df, temp_df], ignore_index=True)\n",
    "df = df[~df['売上年'].astype(str).str.contains('売上年')]    \n",
    "# print(df)\n",
    "\n",
    "df2=pd.DataFrame()\n",
    "\n",
    "# 年代別に「得点」列の平均値を計算する\n",
    "df2 = df.groupby(['商品', '売上年'])['金額（千円）'].sum().reset_index()\n",
    "df2.rename(columns={'金額（千円）': '合計金額（千円）'}, inplace=True)\n",
    "df = pd.concat([df, df2], ignore_index=True)\n",
    "# df = df[~df['売上年'].astype(str).str.contains('売上年')]\n",
    "\n",
    "\n",
    "# print(df)\n",
    "\n",
    "df.to_excel('売上集計表.xlsx', sheet_name='sheet1', index=False)\n"
   ]
  },
  {
   "cell_type": "code",
   "execution_count": 98,
   "metadata": {},
   "outputs": [],
   "source": [
    "import openpyxl\n",
    "book = openpyxl.load_workbook('売上集計表.xlsx')\n",
    "sh=book['sheet1']\n",
    "fill = styles.PatternFill(patternType='solid',fgColor=\"F2F2F2\")\n",
    "for rows in sh['A1:D1']:\n",
    "     for cell in rows:\n",
    "         cell.fill = fill\n",
    "book.save('売上集計表.xlsx')"
   ]
  }
 ],
 "metadata": {
  "kernelspec": {
   "display_name": ".venv",
   "language": "python",
   "name": "python3"
  },
  "language_info": {
   "codemirror_mode": {
    "name": "ipython",
    "version": 3
   },
   "file_extension": ".py",
   "mimetype": "text/x-python",
   "name": "python",
   "nbconvert_exporter": "python",
   "pygments_lexer": "ipython3",
   "version": "3.10.11"
  },
  "orig_nbformat": 4
 },
 "nbformat": 4,
 "nbformat_minor": 2
}
