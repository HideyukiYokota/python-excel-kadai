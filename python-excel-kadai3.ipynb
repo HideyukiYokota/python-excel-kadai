{
 "cells": [
  {
   "cell_type": "code",
   "execution_count": 80,
   "metadata": {},
   "outputs": [
    {
     "name": "stdout",
     "output_type": "stream",
     "text": [
      "     売上年        商品 金額（千円） 合計金額（千円）\n",
      "1   2022        紅茶   1200      NaN\n",
      "2   2022      ハチミツ   1000      NaN\n",
      "3   2022      セッケン   1300      NaN\n",
      "4   2022        紅茶    800      NaN\n",
      "5   2022  アロマキャンドル    900      NaN\n",
      "6   2022      ハチミツ    300      NaN\n",
      "7   2022      ハチミツ    560      NaN\n",
      "8   2022    ワイングラス    850      NaN\n",
      "9   2022  アロマキャンドル    810      NaN\n",
      "10  2022        包丁    940      NaN\n",
      "11  2022        水筒   1150      NaN\n",
      "13  2023        紅茶   1200      NaN\n",
      "14  2023      ハチミツ   1000      NaN\n",
      "15  2023        水筒    250      NaN\n",
      "16  2023     コーヒー豆    860      NaN\n",
      "17  2023      セッケン   1300      NaN\n",
      "18  2023        紅茶    670      NaN\n",
      "19  2023  アロマキャンドル    900      NaN\n",
      "20  2023    ワイングラス    850      NaN\n",
      "21  2023        包丁    940      NaN\n",
      "22  2023     フライパン    670      NaN\n",
      "23  2023        水筒   1150      NaN\n",
      "24  2022  アロマキャンドル    NaN     1710\n",
      "25  2023  アロマキャンドル    NaN      900\n",
      "26  2023     コーヒー豆    NaN      860\n",
      "27  2022      セッケン    NaN     1300\n",
      "28  2023      セッケン    NaN     1300\n",
      "29  2022      ハチミツ    NaN     1860\n",
      "30  2023      ハチミツ    NaN     1000\n",
      "31  2023     フライパン    NaN      670\n",
      "32  2022    ワイングラス    NaN      850\n",
      "33  2023    ワイングラス    NaN      850\n",
      "34  2022        包丁    NaN      940\n",
      "35  2023        包丁    NaN      940\n",
      "37  2022        水筒    NaN     1150\n",
      "38  2023        水筒    NaN     1400\n",
      "39  2022        紅茶    NaN     2000\n",
      "40  2023        紅茶    NaN     1870\n"
     ]
    }
   ],
   "source": [
    "import pandas as pd\n",
    "\n",
    "file_list = ['2022_年間売上表.xlsx', '2023_年間売上表.xlsx']\n",
    "df = pd.DataFrame()\n",
    "\n",
    "for file_name in file_list:\n",
    "    temp_df = pd.read_excel(file_name, header=None)\n",
    "    temp_df.columns = ['売上年', '商品', '金額（千円）']\n",
    "    df = pd.concat([df, temp_df], ignore_index=True)\n",
    "    \n",
    "# print(df)\n",
    "\n",
    "df2=pd.DataFrame()\n",
    "\n",
    "# 年代別に「得点」列の平均値を計算する\n",
    "df2 = df.groupby(['商品', '売上年'])['金額（千円）'].sum().reset_index()\n",
    "df2.rename(columns={'金額（千円）': '合計金額（千円）'}, inplace=True)\n",
    "df = pd.concat([df, df2], ignore_index=True)\n",
    "df = df[~df['売上年'].astype(str).str.contains('売上年')]\n",
    "\n",
    "\n",
    "print(df)\n",
    "\n",
    "df.to_excel('売上集計表.xlsx', sheet_name='sheet1', index=False)\n"
   ]
  },
  {
   "cell_type": "code",
   "execution_count": 83,
   "metadata": {},
   "outputs": [],
   "source": [
    "import openpyxl\n",
    "book = openpyxl.load_workbook('売上集計表.xlsx')\n",
    "sh=book['Sheet1']\n",
    "fill = styles.PatternFill(patternType='solid',fgColor=\"F2F2F2\")\n",
    "for rows in sh['A1:D1']:\n",
    "     for cell in rows:\n",
    "         cell.fill = fill\n",
    "book.save('売上集計表.xlsx')"
   ]
  }
 ],
 "metadata": {
  "kernelspec": {
   "display_name": ".venv",
   "language": "python",
   "name": "python3"
  },
  "language_info": {
   "codemirror_mode": {
    "name": "ipython",
    "version": 3
   },
   "file_extension": ".py",
   "mimetype": "text/x-python",
   "name": "python",
   "nbconvert_exporter": "python",
   "pygments_lexer": "ipython3",
   "version": "3.10.11"
  },
  "orig_nbformat": 4
 },
 "nbformat": 4,
 "nbformat_minor": 2
}
